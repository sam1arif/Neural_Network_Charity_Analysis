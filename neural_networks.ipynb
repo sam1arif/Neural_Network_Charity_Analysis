{
 "cells": [
  {
   "cell_type": "code",
   "execution_count": 1,
   "id": "a2f50de3",
   "metadata": {},
   "outputs": [],
   "source": [
    "# Import dependencies\n",
    "import pandas as pd\n",
    "import matplotlib as plt\n",
    "from sklearn.datasets import make_blobs\n",
    "import sklearn as skl\n",
    "import tensorflow as tf"
   ]
  },
  {
   "cell_type": "code",
   "execution_count": 4,
   "id": "b5621feb",
   "metadata": {},
   "outputs": [
    {
     "data": {
      "text/plain": [
       "<AxesSubplot:xlabel='Feature 1', ylabel='Feature 2'>"
      ]
     },
     "execution_count": 4,
     "metadata": {},
     "output_type": "execute_result"
    },
    {
     "data": {
      "image/png": "[encoded data removed]",
      "text/plain": [
       "<Figure size 432x288 with 2 Axes>"
      ]
     },
     "metadata": {
      "needs_background": "light"
     },
     "output_type": "display_data"
    }
   ],
   "source": [
    "# Generate dummy dataset\n",
    "\n",
    "X, y = make_blobs(n_samples=1000, centers=2, n_features=2, random_state=78)\n",
    "\n",
    "# Creating a DataFrame with the dummy data\n",
    "\n",
    "df = pd.DataFrame(X, columns=[\"Feature 1\", \"Feature 2\"])\n",
    "df[\"Target\"] = y\n",
    "\n",
    "# Plot the dummy data\n",
    "df.plot.scatter(x=\"Feature 1\", y=\"Feature 2\", c=\"Target\", colormap=\"winter\")"
   ]
  },
  {
   "cell_type": "code",
   "execution_count": 6,
   "id": "e8dc5d46",
   "metadata": {},
   "outputs": [],
   "source": [
    "# Use sklearn to split dataset\n",
    "from sklearn.model_selection import train_test_split\n",
    "X_train, X_test, y_train, y_test = train_test_split(X, y, random_state=78)"
   ]
  },
  {
   "cell_type": "code",
   "execution_count": 7,
   "id": "d22954b7",
   "metadata": {},
   "outputs": [],
   "source": [
    "# Create scaler instance\n",
    "X_scaler = skl.preprocessing.StandardScaler()\n",
    "\n",
    "# Fit the scaler\n",
    "X_scaler.fit(X_train)\n",
    "\n",
    "# Scale the data\n",
    "X_train_scaled = X_scaler.transform(X_train)\n",
    "X_test_scaled = X_scaler.transform(X_test)"
   ]
  },
  {
   "cell_type": "code",
   "execution_count": 8,
   "id": "26392f54",
   "metadata": {},
   "outputs": [
    {
     "name": "stderr",
     "output_type": "stream",
     "text": [
      "2022-06-28 09:33:33.983376: I tensorflow/core/platform/cpu_feature_guard.cc:193] This TensorFlow binary is optimized with oneAPI Deep Neural Network Library (oneDNN) to use the following CPU instructions in performance-critical operations:  AVX2 FMA\n",
      "To enable them in other operations, rebuild TensorFlow with the appropriate compiler flags.\n"
     ]
    }
   ],
   "source": [
    "# Create the Keras Sequential model\n",
    "nn_model = tf.keras.models.Sequential()"
   ]
  },
  {
   "cell_type": "code",
   "execution_count": 9,
   "id": "1f283ef5",
   "metadata": {},
   "outputs": [],
   "source": [
    "# Add our first Dense layer, including the input layer\n",
    "nn_model.add(tf.keras.layers.Dense(units=1, activation=\"relu\", input_dim=2))"
   ]
  },
  {
   "cell_type": "code",
   "execution_count": 10,
   "id": "69ef17f4",
   "metadata": {},
   "outputs": [],
   "source": [
    "# Add the output layer that uses a probability activation function\n",
    "nn_model.add(tf.keras.layers.Dense(units=1, activation=\"sigmoid\"))"
   ]
  },
  {
   "cell_type": "code",
   "execution_count": 11,
   "id": "5d7e1184",
   "metadata": {},
   "outputs": [
    {
     "name": "stdout",
     "output_type": "stream",
     "text": [
      "Model: \"sequential\"\n",
      "_________________________________________________________________\n",
      " Layer (type)                Output Shape              Param #   \n",
      "=================================================================\n",
      " dense (Dense)               (None, 1)                 3         \n",
      "                                                                 \n",
      " dense_1 (Dense)             (None, 1)                 2         \n",
      "                                                                 \n",
      "=================================================================\n",
      "Total params: 5\n",
      "Trainable params: 5\n",
      "Non-trainable params: 0\n",
      "_________________________________________________________________\n"
     ]
    }
   ],
   "source": [
    "# Check the structure of the Sequential model\n",
    "nn_model.summary()"
   ]
  },
  {
   "cell_type": "code",
   "execution_count": 12,
   "id": "8b7fb4ed",
   "metadata": {},
   "outputs": [],
   "source": [
    "# Compile the Sequential model together and customize metrics\n",
    "nn_model.compile(loss=\"binary_crossentropy\", optimizer=\"adam\", metrics=[\"accuracy\"])"
   ]
  },
  {
   "cell_type": "code",
   "execution_count": 13,
   "id": "5b34bae8",
   "metadata": {},
   "outputs": [
    {
     "name": "stdout",
     "output_type": "stream",
     "text": [
      "Epoch 1/100\n",
      "24/24 [==============================] - 0s 1ms/step - loss: 1.7999 - accuracy: 0.0253\n",
      "Epoch 2/100\n",
      "24/24 [==============================] - 0s 1ms/step - loss: 1.7288 - accuracy: 0.0240\n",
      "Epoch 3/100\n",
      "24/24 [==============================] - 0s 1ms/step - loss: 1.6614 - accuracy: 0.0267\n",
      "Epoch 4/100\n",
      "24/24 [==============================] - 0s 911us/step - loss: 1.5976 - accuracy: 0.0280\n",
      "Epoch 5/100\n",
      "24/24 [==============================] - 0s 955us/step - loss: 1.5358 - accuracy: 0.0253\n",
      "Epoch 6/100\n",
      "24/24 [==============================] - 0s 894us/step - loss: 1.4783 - accuracy: 0.0267\n",
      "Epoch 7/100\n",
      "24/24 [==============================] - 0s 1ms/step - loss: 1.4225 - accuracy: 0.0280\n",
      "Epoch 8/100\n",
      "24/24 [==============================] - 0s 919us/step - loss: 1.3712 - accuracy: 0.0320\n",
      "Epoch 9/100\n",
      "24/24 [==============================] - 0s 967us/step - loss: 1.3212 - accuracy: 0.0373\n",
      "Epoch 10/100\n",
      "24/24 [==============================] - 0s 903us/step - loss: 1.2746 - accuracy: 0.0493\n",
      "Epoch 11/100\n",
      "24/24 [==============================] - 0s 982us/step - loss: 1.2306 - accuracy: 0.0520\n",
      "Epoch 12/100\n",
      "24/24 [==============================] - 0s 894us/step - loss: 1.1906 - accuracy: 0.0547\n",
      "Epoch 13/100\n",
      "24/24 [==============================] - 0s 1ms/step - loss: 1.1524 - accuracy: 0.0640\n",
      "Epoch 14/100\n",
      "24/24 [==============================] - 0s 880us/step - loss: 1.1175 - accuracy: 0.0760\n",
      "Epoch 15/100\n",
      "24/24 [==============================] - 0s 921us/step - loss: 1.0849 - accuracy: 0.0840\n",
      "Epoch 16/100\n",
      "24/24 [==============================] - 0s 893us/step - loss: 1.0538 - accuracy: 0.0920\n",
      "Epoch 17/100\n",
      "24/24 [==============================] - 0s 981us/step - loss: 1.0258 - accuracy: 0.0987\n",
      "Epoch 18/100\n",
      "24/24 [==============================] - 0s 1ms/step - loss: 0.9988 - accuracy: 0.1160\n",
      "Epoch 19/100\n",
      "24/24 [==============================] - 0s 942us/step - loss: 0.9748 - accuracy: 0.1227\n",
      "Epoch 20/100\n",
      "24/24 [==============================] - 0s 1ms/step - loss: 0.9515 - accuracy: 0.1373\n",
      "Epoch 21/100\n",
      "24/24 [==============================] - 0s 902us/step - loss: 0.9309 - accuracy: 0.1507\n",
      "Epoch 22/100\n",
      "24/24 [==============================] - 0s 995us/step - loss: 0.9113 - accuracy: 0.1693\n",
      "Epoch 23/100\n",
      "24/24 [==============================] - 0s 966us/step - loss: 0.8930 - accuracy: 0.1827\n",
      "Epoch 24/100\n",
      "24/24 [==============================] - 0s 1ms/step - loss: 0.8761 - accuracy: 0.1933\n",
      "Epoch 25/100\n",
      "24/24 [==============================] - 0s 1ms/step - loss: 0.8602 - accuracy: 0.2027\n",
      "Epoch 26/100\n",
      "24/24 [==============================] - 0s 1ms/step - loss: 0.8458 - accuracy: 0.2160\n",
      "Epoch 27/100\n",
      "24/24 [==============================] - 0s 1ms/step - loss: 0.8325 - accuracy: 0.2347\n",
      "Epoch 28/100\n",
      "24/24 [==============================] - 0s 1ms/step - loss: 0.8199 - accuracy: 0.2413\n",
      "Epoch 29/100\n",
      "24/24 [==============================] - 0s 1ms/step - loss: 0.8088 - accuracy: 0.2547\n",
      "Epoch 30/100\n",
      "24/24 [==============================] - 0s 987us/step - loss: 0.7984 - accuracy: 0.2653\n",
      "Epoch 31/100\n",
      "24/24 [==============================] - 0s 1ms/step - loss: 0.7888 - accuracy: 0.2853\n",
      "Epoch 32/100\n",
      "24/24 [==============================] - 0s 1ms/step - loss: 0.7797 - accuracy: 0.2987\n",
      "Epoch 33/100\n",
      "24/24 [==============================] - 0s 923us/step - loss: 0.7716 - accuracy: 0.3133\n",
      "Epoch 34/100\n",
      "24/24 [==============================] - 0s 1ms/step - loss: 0.7638 - accuracy: 0.3333\n",
      "Epoch 35/100\n",
      "24/24 [==============================] - 0s 954us/step - loss: 0.7568 - accuracy: 0.3453\n",
      "Epoch 36/100\n",
      "24/24 [==============================] - 0s 1ms/step - loss: 0.7504 - accuracy: 0.3573\n",
      "Epoch 37/100\n",
      "24/24 [==============================] - 0s 1ms/step - loss: 0.7442 - accuracy: 0.3653\n",
      "Epoch 38/100\n",
      "24/24 [==============================] - 0s 1ms/step - loss: 0.7389 - accuracy: 0.3773\n",
      "Epoch 39/100\n",
      "24/24 [==============================] - 0s 1ms/step - loss: 0.7341 - accuracy: 0.3867\n",
      "Epoch 40/100\n",
      "24/24 [==============================] - 0s 2ms/step - loss: 0.7296 - accuracy: 0.3973\n",
      "Epoch 41/100\n",
      "24/24 [==============================] - 0s 1ms/step - loss: 0.7256 - accuracy: 0.4067\n",
      "Epoch 42/100\n",
      "24/24 [==============================] - 0s 1ms/step - loss: 0.7221 - accuracy: 0.4147\n",
      "Epoch 43/100\n",
      "24/24 [==============================] - 0s 1ms/step - loss: 0.7191 - accuracy: 0.4227\n",
      "Epoch 44/100\n",
      "24/24 [==============================] - 0s 1ms/step - loss: 0.7162 - accuracy: 0.4280\n",
      "Epoch 45/100\n",
      "24/24 [==============================] - 0s 998us/step - loss: 0.7137 - accuracy: 0.4347\n",
      "Epoch 46/100\n",
      "24/24 [==============================] - 0s 976us/step - loss: 0.7114 - accuracy: 0.4413\n",
      "Epoch 47/100\n",
      "24/24 [==============================] - 0s 987us/step - loss: 0.7094 - accuracy: 0.4493\n",
      "Epoch 48/100\n",
      "24/24 [==============================] - 0s 1ms/step - loss: 0.7076 - accuracy: 0.4533\n",
      "Epoch 49/100\n",
      "24/24 [==============================] - 0s 1ms/step - loss: 0.7060 - accuracy: 0.4560\n",
      "Epoch 50/100\n",
      "24/24 [==============================] - 0s 1ms/step - loss: 0.7047 - accuracy: 0.4600\n",
      "Epoch 51/100\n",
      "24/24 [==============================] - 0s 1ms/step - loss: 0.7034 - accuracy: 0.4707\n",
      "Epoch 52/100\n",
      "24/24 [==============================] - 0s 1ms/step - loss: 0.7023 - accuracy: 0.4733\n",
      "Epoch 53/100\n",
      "24/24 [==============================] - 0s 1ms/step - loss: 0.7013 - accuracy: 0.4773\n",
      "Epoch 54/100\n",
      "24/24 [==============================] - 0s 1ms/step - loss: 0.7004 - accuracy: 0.4813\n",
      "Epoch 55/100\n",
      "24/24 [==============================] - 0s 978us/step - loss: 0.6996 - accuracy: 0.4853\n",
      "Epoch 56/100\n",
      "24/24 [==============================] - 0s 989us/step - loss: 0.6989 - accuracy: 0.4867\n",
      "Epoch 57/100\n",
      "24/24 [==============================] - 0s 933us/step - loss: 0.6983 - accuracy: 0.4880\n",
      "Epoch 58/100\n",
      "24/24 [==============================] - 0s 945us/step - loss: 0.6978 - accuracy: 0.4907\n",
      "Epoch 59/100\n",
      "24/24 [==============================] - 0s 911us/step - loss: 0.6973 - accuracy: 0.4907\n",
      "Epoch 60/100\n",
      "24/24 [==============================] - 0s 973us/step - loss: 0.6968 - accuracy: 0.4920\n",
      "Epoch 61/100\n",
      "24/24 [==============================] - 0s 899us/step - loss: 0.6965 - accuracy: 0.4920\n",
      "Epoch 62/100\n",
      "24/24 [==============================] - 0s 927us/step - loss: 0.6962 - accuracy: 0.4920\n",
      "Epoch 63/100\n",
      "24/24 [==============================] - 0s 895us/step - loss: 0.6959 - accuracy: 0.4920\n",
      "Epoch 64/100\n",
      "24/24 [==============================] - 0s 960us/step - loss: 0.6957 - accuracy: 0.4920\n",
      "Epoch 65/100\n",
      "24/24 [==============================] - 0s 943us/step - loss: 0.6955 - accuracy: 0.4933\n",
      "Epoch 66/100\n",
      "24/24 [==============================] - 0s 973us/step - loss: 0.6954 - accuracy: 0.4933\n",
      "Epoch 67/100\n",
      "24/24 [==============================] - 0s 920us/step - loss: 0.6952 - accuracy: 0.4947\n",
      "Epoch 68/100\n",
      "24/24 [==============================] - 0s 950us/step - loss: 0.6951 - accuracy: 0.4947\n",
      "Epoch 69/100\n",
      "24/24 [==============================] - 0s 954us/step - loss: 0.6950 - accuracy: 0.4947\n",
      "Epoch 70/100\n",
      "24/24 [==============================] - 0s 972us/step - loss: 0.6949 - accuracy: 0.4947\n",
      "Epoch 71/100\n",
      "24/24 [==============================] - 0s 896us/step - loss: 0.6948 - accuracy: 0.4947\n",
      "Epoch 72/100\n",
      "24/24 [==============================] - 0s 863us/step - loss: 0.6947 - accuracy: 0.4960\n",
      "Epoch 73/100\n",
      "24/24 [==============================] - 0s 842us/step - loss: 0.6946 - accuracy: 0.4960\n",
      "Epoch 74/100\n",
      "24/24 [==============================] - 0s 945us/step - loss: 0.6945 - accuracy: 0.4960\n",
      "Epoch 75/100\n",
      "24/24 [==============================] - 0s 879us/step - loss: 0.6944 - accuracy: 0.4973\n",
      "Epoch 76/100\n",
      "24/24 [==============================] - 0s 980us/step - loss: 0.6943 - accuracy: 0.4973\n",
      "Epoch 77/100\n",
      "24/24 [==============================] - 0s 873us/step - loss: 0.6943 - accuracy: 0.4973\n",
      "Epoch 78/100\n",
      "24/24 [==============================] - 0s 935us/step - loss: 0.6942 - accuracy: 0.4987\n",
      "Epoch 79/100\n",
      "24/24 [==============================] - 0s 938us/step - loss: 0.6941 - accuracy: 0.4987\n",
      "Epoch 80/100\n",
      "24/24 [==============================] - 0s 900us/step - loss: 0.6940 - accuracy: 0.5000\n",
      "Epoch 81/100\n",
      "24/24 [==============================] - 0s 857us/step - loss: 0.6940 - accuracy: 0.5000\n",
      "Epoch 82/100\n"
     ]
    },
    {
     "name": "stdout",
     "output_type": "stream",
     "text": [
      "24/24 [==============================] - 0s 878us/step - loss: 0.6939 - accuracy: 0.5000\n",
      "Epoch 83/100\n",
      "24/24 [==============================] - 0s 949us/step - loss: 0.6939 - accuracy: 0.5000\n",
      "Epoch 84/100\n",
      "24/24 [==============================] - 0s 887us/step - loss: 0.6938 - accuracy: 0.5000\n",
      "Epoch 85/100\n",
      "24/24 [==============================] - 0s 934us/step - loss: 0.6938 - accuracy: 0.5013\n",
      "Epoch 86/100\n",
      "24/24 [==============================] - 0s 938us/step - loss: 0.6938 - accuracy: 0.5013\n",
      "Epoch 87/100\n",
      "24/24 [==============================] - 0s 849us/step - loss: 0.6937 - accuracy: 0.5013\n",
      "Epoch 88/100\n",
      "24/24 [==============================] - 0s 879us/step - loss: 0.6937 - accuracy: 0.5013\n",
      "Epoch 89/100\n",
      "24/24 [==============================] - 0s 907us/step - loss: 0.6937 - accuracy: 0.5013\n",
      "Epoch 90/100\n",
      "24/24 [==============================] - 0s 939us/step - loss: 0.6936 - accuracy: 0.5013\n",
      "Epoch 91/100\n",
      "24/24 [==============================] - 0s 912us/step - loss: 0.6936 - accuracy: 0.5013\n",
      "Epoch 92/100\n",
      "24/24 [==============================] - 0s 972us/step - loss: 0.6936 - accuracy: 0.5013\n",
      "Epoch 93/100\n",
      "24/24 [==============================] - 0s 884us/step - loss: 0.6936 - accuracy: 0.5013\n",
      "Epoch 94/100\n",
      "24/24 [==============================] - 0s 1000us/step - loss: 0.6935 - accuracy: 0.5027\n",
      "Epoch 95/100\n",
      "24/24 [==============================] - 0s 915us/step - loss: 0.6935 - accuracy: 0.5027\n",
      "Epoch 96/100\n",
      "24/24 [==============================] - 0s 1ms/step - loss: 0.6935 - accuracy: 0.5027\n",
      "Epoch 97/100\n",
      "24/24 [==============================] - 0s 915us/step - loss: 0.6935 - accuracy: 0.5040\n",
      "Epoch 98/100\n",
      "24/24 [==============================] - 0s 993us/step - loss: 0.6935 - accuracy: 0.5040\n",
      "Epoch 99/100\n",
      "24/24 [==============================] - 0s 1ms/step - loss: 0.6935 - accuracy: 0.5040\n",
      "Epoch 100/100\n",
      "24/24 [==============================] - 0s 886us/step - loss: 0.6935 - accuracy: 0.5040\n"
     ]
    }
   ],
   "source": [
    "# Fit the model to the training data\n",
    "fit_model = nn_model.fit(X_train_scaled, y_train, epochs=100)"
   ]
  },
  {
   "cell_type": "code",
   "execution_count": 14,
   "id": "dcad0bee",
   "metadata": {},
   "outputs": [
    {
     "data": {
      "text/plain": [
       "<AxesSubplot:>"
      ]
     },
     "execution_count": 14,
     "metadata": {},
     "output_type": "execute_result"
    },
    {
     "data": {
      "image/png": "[encoded data removed]",
      "text/plain": [
       "<Figure size 432x288 with 1 Axes>"
      ]
     },
     "metadata": {
      "needs_background": "light"
     },
     "output_type": "display_data"
    }
   ],
   "source": [
    "# Create a DataFrame containing training history\n",
    "history_df = pd.DataFrame(fit_model.history, index=range(1,len(fit_model.history[\"loss\"])+1))\n",
    "\n",
    "# Plot the loss\n",
    "history_df.plot(y=\"loss\")"
   ]
  },
  {
   "cell_type": "code",
   "execution_count": 15,
   "id": "3f286e1f",
   "metadata": {},
   "outputs": [
    {
     "data": {
      "text/plain": [
       "<AxesSubplot:>"
      ]
     },
     "execution_count": 15,
     "metadata": {},
     "output_type": "execute_result"
    },
    {
     "data": {
      "image/png": "[encoded data removed]",
      "text/plain": [
       "<Figure size 432x288 with 1 Axes>"
      ]
     },
     "metadata": {
      "needs_background": "light"
     },
     "output_type": "display_data"
    }
   ],
   "source": [
    "# Plot the accuracy\n",
    "history_df.plot(y=\"accuracy\")"
   ]
  },
  {
   "cell_type": "code",
   "execution_count": 16,
   "id": "7926cb87",
   "metadata": {},
   "outputs": [
    {
     "name": "stdout",
     "output_type": "stream",
     "text": [
      "8/8 - 0s - loss: 0.6941 - accuracy: 0.4800 - 119ms/epoch - 15ms/step\n",
      "Loss: 0.6940847635269165, Accuracy: 0.47999998927116394\n"
     ]
    }
   ],
   "source": [
    "# Evaluate the model using the test data\n",
    "model_loss, model_accuracy = nn_model.evaluate(X_test_scaled,y_test,verbose=2)\n",
    "print(f\"Loss: {model_loss}, Accuracy: {model_accuracy}\")"
   ]
  },
  {
   "cell_type": "code",
   "execution_count": 17,
   "id": "702e8b31",
   "metadata": {},
   "outputs": [
    {
     "name": "stdout",
     "output_type": "stream",
     "text": [
      "1/1 [==============================] - 0s 64ms/step\n"
     ]
    },
    {
     "data": {
      "text/plain": [
       "array([[0],\n",
       "       [0],\n",
       "       [0],\n",
       "       [0],\n",
       "       [0],\n",
       "       [0],\n",
       "       [0],\n",
       "       [0],\n",
       "       [0],\n",
       "       [0]], dtype=int32)"
      ]
     },
     "execution_count": 17,
     "metadata": {},
     "output_type": "execute_result"
    }
   ],
   "source": [
    "# Predict the classification of a new set of blob data\n",
    "new_X, new_Y = make_blobs(n_samples=10, centers=2, n_features=2, random_state=78)\n",
    "new_X_scaled = X_scaler.transform(new_X)\n",
    "(nn_model.predict(new_X_scaled) > 0.5).astype(\"int32\")"
   ]
  },
  {
   "cell_type": "code",
   "execution_count": 18,
   "id": "b46dc609",
   "metadata": {},
   "outputs": [
    {
     "data": {
      "text/plain": [
       "<AxesSubplot:xlabel='Feature 1', ylabel='Feature 2'>"
      ]
     },
     "execution_count": 18,
     "metadata": {},
     "output_type": "execute_result"
    },
    {
     "data": {
      "image/png": "[encoded data removed]",
      "text/plain": [
       "<Figure size 432x288 with 2 Axes>"
      ]
     },
     "metadata": {
      "needs_background": "light"
     },
     "output_type": "display_data"
    }
   ],
   "source": [
    "# To test this behavior, let's generate some new dummy data. This time we'll generate some nonlinear \n",
    "# moon-shaped data using Scikit-learn's make_moons method and visualize it using Pandas and Matplotlib.\n",
    "from sklearn.datasets import make_moons\n",
    "\n",
    "# Creating dummy nonlinear data\n",
    "X_moons, y_moons = make_moons(n_samples=1000, noise=0.08, random_state=78)\n",
    "\n",
    "# Transforming y_moons to a vertical vector\n",
    "y_moons = y_moons.reshape(-1, 1)\n",
    "\n",
    "# Creating a DataFrame to plot the nonlinear dummy data\n",
    "df_moons = pd.DataFrame(X_moons, columns=[\"Feature 1\", \"Feature 2\"])\n",
    "df_moons[\"Target\"] = y_moons\n",
    "\n",
    "# Plot the nonlinear dummy data\n",
    "df_moons.plot.scatter(x=\"Feature 1\",y=\"Feature 2\", c=\"Target\",colormap=\"winter\")"
   ]
  },
  {
   "cell_type": "code",
   "execution_count": 19,
   "id": "ad16287b",
   "metadata": {},
   "outputs": [],
   "source": [
    "# Create training and testing sets\n",
    "X_moon_train, X_moon_test, y_moon_train, y_moon_test = train_test_split(\n",
    "    X_moons, y_moons, random_state=78\n",
    ")\n",
    "\n",
    "# Create the scaler instance\n",
    "X_moon_scaler = skl.preprocessing.StandardScaler()\n",
    "\n",
    "# Fit the scaler\n",
    "X_moon_scaler.fit(X_moon_train)\n",
    "\n",
    "# Scale the data\n",
    "X_moon_train_scaled = X_moon_scaler.transform(X_moon_train)\n",
    "X_moon_test_scaled = X_moon_scaler.transform(X_moon_test)"
   ]
  },
  {
   "cell_type": "code",
   "execution_count": 20,
   "id": "0d6aaec3",
   "metadata": {},
   "outputs": [
    {
     "name": "stdout",
     "output_type": "stream",
     "text": [
      "Epoch 1/100\n",
      "24/24 [==============================] - 0s 1ms/step - loss: 0.6921 - accuracy: 0.5320\n",
      "Epoch 2/100\n",
      "24/24 [==============================] - 0s 1ms/step - loss: 0.6921 - accuracy: 0.5320\n",
      "Epoch 3/100\n",
      " 1/24 [>.............................] - ETA: 0s - loss: 0.6947 - accuracy: 0.4688"
     ]
    },
    {
     "name": "stderr",
     "output_type": "stream",
     "text": [
      "2022-06-28 09:51:08.132385: W tensorflow/core/common_runtime/forward_type_inference.cc:231] Type inference failed. This indicates an invalid graph that escaped type checking. Error message: INVALID_ARGUMENT: expected compatible input types, but input 1:\n",
      "type_id: TFT_OPTIONAL\n",
      "args {\n",
      "  type_id: TFT_PRODUCT\n",
      "  args {\n",
      "    type_id: TFT_TENSOR\n",
      "    args {\n",
      "      type_id: TFT_BOOL\n",
      "    }\n",
      "  }\n",
      "}\n",
      " is neither a subtype nor a supertype of the combined inputs preceding it:\n",
      "type_id: TFT_OPTIONAL\n",
      "args {\n",
      "  type_id: TFT_PRODUCT\n",
      "  args {\n",
      "    type_id: TFT_TENSOR\n",
      "    args {\n",
      "      type_id: TFT_LEGACY_VARIANT\n",
      "    }\n",
      "  }\n",
      "}\n",
      "\n",
      "\twhile inferring type of node 'binary_crossentropy/cond/output/_10'\n"
     ]
    },
    {
     "name": "stdout",
     "output_type": "stream",
     "text": [
      "24/24 [==============================] - 0s 1ms/step - loss: 0.6920 - accuracy: 0.5320\n",
      "Epoch 4/100\n",
      "24/24 [==============================] - 0s 1ms/step - loss: 0.6919 - accuracy: 0.5320\n",
      "Epoch 5/100\n",
      "24/24 [==============================] - 0s 1ms/step - loss: 0.6918 - accuracy: 0.5320\n",
      "Epoch 6/100\n",
      "24/24 [==============================] - 0s 1ms/step - loss: 0.6917 - accuracy: 0.5320\n",
      "Epoch 7/100\n",
      "24/24 [==============================] - 0s 1ms/step - loss: 0.6917 - accuracy: 0.5320\n",
      "Epoch 8/100\n",
      "24/24 [==============================] - 0s 1ms/step - loss: 0.6916 - accuracy: 0.5320\n",
      "Epoch 9/100\n",
      "24/24 [==============================] - 0s 1ms/step - loss: 0.6916 - accuracy: 0.5320\n",
      "Epoch 10/100\n",
      "24/24 [==============================] - 0s 1ms/step - loss: 0.6915 - accuracy: 0.5320\n",
      "Epoch 11/100\n",
      "24/24 [==============================] - 0s 1ms/step - loss: 0.6915 - accuracy: 0.5320\n",
      "Epoch 12/100\n",
      "24/24 [==============================] - 0s 1ms/step - loss: 0.6914 - accuracy: 0.5320\n",
      "Epoch 13/100\n",
      "24/24 [==============================] - 0s 1ms/step - loss: 0.6914 - accuracy: 0.5320\n",
      "Epoch 14/100\n",
      "24/24 [==============================] - 0s 1ms/step - loss: 0.6914 - accuracy: 0.5320\n",
      "Epoch 15/100\n",
      "24/24 [==============================] - 0s 1ms/step - loss: 0.6914 - accuracy: 0.5320\n",
      "Epoch 16/100\n",
      "24/24 [==============================] - 0s 1ms/step - loss: 0.6913 - accuracy: 0.5320\n",
      "Epoch 17/100\n",
      "24/24 [==============================] - 0s 1ms/step - loss: 0.6913 - accuracy: 0.5320\n",
      "Epoch 18/100\n",
      "24/24 [==============================] - 0s 1ms/step - loss: 0.6913 - accuracy: 0.5320\n",
      "Epoch 19/100\n",
      "24/24 [==============================] - 0s 1ms/step - loss: 0.6912 - accuracy: 0.5320\n",
      "Epoch 20/100\n",
      "24/24 [==============================] - 0s 1ms/step - loss: 0.6912 - accuracy: 0.5320\n",
      "Epoch 21/100\n",
      "24/24 [==============================] - 0s 1ms/step - loss: 0.6912 - accuracy: 0.5320\n",
      "Epoch 22/100\n",
      "24/24 [==============================] - 0s 1ms/step - loss: 0.6911 - accuracy: 0.5320\n",
      "Epoch 23/100\n",
      "24/24 [==============================] - 0s 1ms/step - loss: 0.6909 - accuracy: 0.5320\n",
      "Epoch 24/100\n",
      "24/24 [==============================] - 0s 1ms/step - loss: 0.6908 - accuracy: 0.5320\n",
      "Epoch 25/100\n",
      "24/24 [==============================] - 0s 1ms/step - loss: 0.6905 - accuracy: 0.5320\n",
      "Epoch 26/100\n",
      "24/24 [==============================] - 0s 1ms/step - loss: 0.6900 - accuracy: 0.5347\n",
      "Epoch 27/100\n",
      "24/24 [==============================] - 0s 1ms/step - loss: 0.6887 - accuracy: 0.5453\n",
      "Epoch 28/100\n",
      "24/24 [==============================] - 0s 1ms/step - loss: 0.6867 - accuracy: 0.5667\n",
      "Epoch 29/100\n",
      "24/24 [==============================] - 0s 1ms/step - loss: 0.6834 - accuracy: 0.6040\n",
      "Epoch 30/100\n",
      "24/24 [==============================] - 0s 1ms/step - loss: 0.6778 - accuracy: 0.6293\n",
      "Epoch 31/100\n",
      "24/24 [==============================] - 0s 1ms/step - loss: 0.6697 - accuracy: 0.6867\n",
      "Epoch 32/100\n",
      "24/24 [==============================] - 0s 1ms/step - loss: 0.6606 - accuracy: 0.7133\n",
      "Epoch 33/100\n",
      "24/24 [==============================] - 0s 1ms/step - loss: 0.6495 - accuracy: 0.7373\n",
      "Epoch 34/100\n",
      "24/24 [==============================] - 0s 1ms/step - loss: 0.6370 - accuracy: 0.7627\n",
      "Epoch 35/100\n",
      "24/24 [==============================] - 0s 1ms/step - loss: 0.6241 - accuracy: 0.7827\n",
      "Epoch 36/100\n",
      "24/24 [==============================] - 0s 1ms/step - loss: 0.6107 - accuracy: 0.7947\n",
      "Epoch 37/100\n",
      "24/24 [==============================] - 0s 1ms/step - loss: 0.5972 - accuracy: 0.8133\n",
      "Epoch 38/100\n",
      "24/24 [==============================] - 0s 1ms/step - loss: 0.5844 - accuracy: 0.8293\n",
      "Epoch 39/100\n",
      "24/24 [==============================] - 0s 1ms/step - loss: 0.5716 - accuracy: 0.8333\n",
      "Epoch 40/100\n",
      "24/24 [==============================] - 0s 1ms/step - loss: 0.5591 - accuracy: 0.8387\n",
      "Epoch 41/100\n",
      "24/24 [==============================] - 0s 1ms/step - loss: 0.5468 - accuracy: 0.8440\n",
      "Epoch 42/100\n",
      "24/24 [==============================] - 0s 1ms/step - loss: 0.5349 - accuracy: 0.8587\n",
      "Epoch 43/100\n",
      "24/24 [==============================] - 0s 1ms/step - loss: 0.5230 - accuracy: 0.8600\n",
      "Epoch 44/100\n",
      "24/24 [==============================] - 0s 1ms/step - loss: 0.5119 - accuracy: 0.8640\n",
      "Epoch 45/100\n",
      "24/24 [==============================] - 0s 1ms/step - loss: 0.5014 - accuracy: 0.8653\n",
      "Epoch 46/100\n",
      "24/24 [==============================] - 0s 1ms/step - loss: 0.4917 - accuracy: 0.8680\n",
      "Epoch 47/100\n",
      "24/24 [==============================] - 0s 1ms/step - loss: 0.4827 - accuracy: 0.8720\n",
      "Epoch 48/100\n",
      "24/24 [==============================] - 0s 1ms/step - loss: 0.4741 - accuracy: 0.8733\n",
      "Epoch 49/100\n",
      "24/24 [==============================] - 0s 1ms/step - loss: 0.4662 - accuracy: 0.8720\n",
      "Epoch 50/100\n",
      "24/24 [==============================] - 0s 1ms/step - loss: 0.4585 - accuracy: 0.8747\n",
      "Epoch 51/100\n",
      "24/24 [==============================] - 0s 1ms/step - loss: 0.4512 - accuracy: 0.8747\n",
      "Epoch 52/100\n",
      "24/24 [==============================] - 0s 1ms/step - loss: 0.4445 - accuracy: 0.8760\n",
      "Epoch 53/100\n",
      "24/24 [==============================] - 0s 1ms/step - loss: 0.4382 - accuracy: 0.8760\n",
      "Epoch 54/100\n",
      "24/24 [==============================] - 0s 1ms/step - loss: 0.4322 - accuracy: 0.8760\n",
      "Epoch 55/100\n",
      "24/24 [==============================] - 0s 1ms/step - loss: 0.4265 - accuracy: 0.8787\n",
      "Epoch 56/100\n",
      "24/24 [==============================] - 0s 1ms/step - loss: 0.4211 - accuracy: 0.8787\n",
      "Epoch 57/100\n",
      "24/24 [==============================] - 0s 1ms/step - loss: 0.4160 - accuracy: 0.8787\n",
      "Epoch 58/100\n",
      "24/24 [==============================] - 0s 1ms/step - loss: 0.4112 - accuracy: 0.8800\n",
      "Epoch 59/100\n",
      "24/24 [==============================] - 0s 2ms/step - loss: 0.4066 - accuracy: 0.8800\n",
      "Epoch 60/100\n",
      "24/24 [==============================] - 0s 2ms/step - loss: 0.4022 - accuracy: 0.8800\n",
      "Epoch 61/100\n",
      "24/24 [==============================] - 0s 1ms/step - loss: 0.3980 - accuracy: 0.8800\n",
      "Epoch 62/100\n",
      "24/24 [==============================] - 0s 1ms/step - loss: 0.3940 - accuracy: 0.8800\n",
      "Epoch 63/100\n",
      "24/24 [==============================] - 0s 1ms/step - loss: 0.3902 - accuracy: 0.8800\n",
      "Epoch 64/100\n",
      "24/24 [==============================] - 0s 1ms/step - loss: 0.3865 - accuracy: 0.8800\n",
      "Epoch 65/100\n",
      "24/24 [==============================] - 0s 1ms/step - loss: 0.3831 - accuracy: 0.8813\n",
      "Epoch 66/100\n",
      "24/24 [==============================] - 0s 1ms/step - loss: 0.3796 - accuracy: 0.8813\n",
      "Epoch 67/100\n",
      "24/24 [==============================] - 0s 1ms/step - loss: 0.3764 - accuracy: 0.8813\n",
      "Epoch 68/100\n",
      "24/24 [==============================] - 0s 2ms/step - loss: 0.3733 - accuracy: 0.8813\n",
      "Epoch 69/100\n",
      "24/24 [==============================] - 0s 2ms/step - loss: 0.3703 - accuracy: 0.8813\n",
      "Epoch 70/100\n",
      "24/24 [==============================] - 0s 1ms/step - loss: 0.3674 - accuracy: 0.8813\n",
      "Epoch 71/100\n",
      "24/24 [==============================] - 0s 1ms/step - loss: 0.3646 - accuracy: 0.8827\n",
      "Epoch 72/100\n",
      "24/24 [==============================] - 0s 1ms/step - loss: 0.3618 - accuracy: 0.8827\n",
      "Epoch 73/100\n",
      "24/24 [==============================] - 0s 1ms/step - loss: 0.3592 - accuracy: 0.8840\n",
      "Epoch 74/100\n",
      "24/24 [==============================] - 0s 1ms/step - loss: 0.3565 - accuracy: 0.8827\n",
      "Epoch 75/100\n",
      "24/24 [==============================] - 0s 1ms/step - loss: 0.3541 - accuracy: 0.8853\n",
      "Epoch 76/100\n",
      "24/24 [==============================] - 0s 1ms/step - loss: 0.3516 - accuracy: 0.8867\n",
      "Epoch 77/100\n",
      "24/24 [==============================] - 0s 2ms/step - loss: 0.3493 - accuracy: 0.8867\n",
      "Epoch 78/100\n",
      "24/24 [==============================] - 0s 1ms/step - loss: 0.3469 - accuracy: 0.8867\n",
      "Epoch 79/100\n",
      "24/24 [==============================] - 0s 1ms/step - loss: 0.3447 - accuracy: 0.8880\n",
      "Epoch 80/100\n",
      "24/24 [==============================] - 0s 1ms/step - loss: 0.3424 - accuracy: 0.8840\n",
      "Epoch 81/100\n",
      "24/24 [==============================] - 0s 1ms/step - loss: 0.3403 - accuracy: 0.8853\n",
      "Epoch 82/100\n",
      "24/24 [==============================] - 0s 1ms/step - loss: 0.3383 - accuracy: 0.8867\n",
      "Epoch 83/100\n",
      "24/24 [==============================] - 0s 1ms/step - loss: 0.3364 - accuracy: 0.8853\n",
      "Epoch 84/100\n",
      "24/24 [==============================] - 0s 1ms/step - loss: 0.3344 - accuracy: 0.8853\n",
      "Epoch 85/100\n"
     ]
    },
    {
     "name": "stdout",
     "output_type": "stream",
     "text": [
      "24/24 [==============================] - 0s 1ms/step - loss: 0.3326 - accuracy: 0.8853\n",
      "Epoch 86/100\n",
      "24/24 [==============================] - 0s 1ms/step - loss: 0.3308 - accuracy: 0.8840\n",
      "Epoch 87/100\n",
      "24/24 [==============================] - 0s 1ms/step - loss: 0.3291 - accuracy: 0.8853\n",
      "Epoch 88/100\n",
      "24/24 [==============================] - 0s 1ms/step - loss: 0.3274 - accuracy: 0.8867\n",
      "Epoch 89/100\n",
      "24/24 [==============================] - 0s 1ms/step - loss: 0.3259 - accuracy: 0.8853\n",
      "Epoch 90/100\n",
      "24/24 [==============================] - 0s 1ms/step - loss: 0.3244 - accuracy: 0.8880\n",
      "Epoch 91/100\n",
      "24/24 [==============================] - 0s 1ms/step - loss: 0.3229 - accuracy: 0.8867\n",
      "Epoch 92/100\n",
      "24/24 [==============================] - 0s 1ms/step - loss: 0.3215 - accuracy: 0.8867\n",
      "Epoch 93/100\n",
      "24/24 [==============================] - 0s 1ms/step - loss: 0.3200 - accuracy: 0.8867\n",
      "Epoch 94/100\n",
      "24/24 [==============================] - 0s 1ms/step - loss: 0.3188 - accuracy: 0.8867\n",
      "Epoch 95/100\n",
      "24/24 [==============================] - 0s 1ms/step - loss: 0.3174 - accuracy: 0.8867\n",
      "Epoch 96/100\n",
      "24/24 [==============================] - 0s 1ms/step - loss: 0.3162 - accuracy: 0.8880\n",
      "Epoch 97/100\n",
      "24/24 [==============================] - 0s 1ms/step - loss: 0.3152 - accuracy: 0.8880\n",
      "Epoch 98/100\n",
      "24/24 [==============================] - 0s 1ms/step - loss: 0.3139 - accuracy: 0.8893\n",
      "Epoch 99/100\n",
      "24/24 [==============================] - 0s 1ms/step - loss: 0.3128 - accuracy: 0.8893\n",
      "Epoch 100/100\n",
      "24/24 [==============================] - 0s 1ms/step - loss: 0.3117 - accuracy: 0.8907\n"
     ]
    }
   ],
   "source": [
    "# Training the model with the nonlinear data\n",
    "model_moon = nn_model.fit(X_moon_train_scaled, y_moon_train, epochs=100, shuffle=True)"
   ]
  },
  {
   "cell_type": "code",
   "execution_count": 21,
   "id": "2bbed081",
   "metadata": {},
   "outputs": [
    {
     "data": {
      "text/plain": [
       "<AxesSubplot:>"
      ]
     },
     "execution_count": 21,
     "metadata": {},
     "output_type": "execute_result"
    },
    {
     "data": {
      "image/png": "[encoded data removed]",
      "text/plain": [
       "<Figure size 432x288 with 1 Axes>"
      ]
     },
     "metadata": {
      "needs_background": "light"
     },
     "output_type": "display_data"
    }
   ],
   "source": [
    "# Create a DataFrame containing training history\n",
    "history_df = pd.DataFrame(model_moon.history, index=range(1,len(model_moon.history[\"loss\"])+1))\n",
    "\n",
    "# Plot the loss\n",
    "history_df.plot(y=\"loss\")"
   ]
  },
  {
   "cell_type": "code",
   "execution_count": 23,
   "id": "af1e094d",
   "metadata": {},
   "outputs": [
    {
     "data": {
      "text/plain": [
       "<AxesSubplot:>"
      ]
     },
     "execution_count": 23,
     "metadata": {},
     "output_type": "execute_result"
    },
    {
     "data": {
      "image/png": "[encoded data removed]",
      "text/plain": [
       "<Figure size 432x288 with 1 Axes>"
      ]
     },
     "metadata": {
      "needs_background": "light"
     },
     "output_type": "display_data"
    }
   ],
   "source": [
    "# Plot the accuracy\n",
    "history_df.plot(y=\"accuracy\")"
   ]
  },
  {
   "cell_type": "code",
   "execution_count": 24,
   "id": "83ed7b8b",
   "metadata": {},
   "outputs": [],
   "source": [
    "# Generate our new Sequential model\n",
    "new_model = tf.keras.models.Sequential()"
   ]
  },
  {
   "cell_type": "code",
   "execution_count": 25,
   "id": "c55cb484",
   "metadata": {},
   "outputs": [],
   "source": [
    "# Add the input and hidden layer\n",
    "\n",
    "number_inputs = 2\n",
    "number_hidden_nodes = 6\n",
    "\n",
    "new_model.add(tf.keras.layers.Dense(units=number_hidden_nodes, activation=\"relu\", input_dim=number_inputs))\n",
    "\n",
    "# Add the output layer that uses a probability activation function\n",
    "new_model.add(tf.keras.layers.Dense(units=1, activation=\"sigmoid\"))"
   ]
  },
  {
   "cell_type": "code",
   "execution_count": 26,
   "id": "afb99e94",
   "metadata": {},
   "outputs": [
    {
     "name": "stdout",
     "output_type": "stream",
     "text": [
      "Epoch 1/100\n",
      "24/24 [==============================] - 0s 1ms/step - loss: 0.6387 - accuracy: 0.7147\n",
      "Epoch 2/100\n",
      "24/24 [==============================] - 0s 1ms/step - loss: 0.5995 - accuracy: 0.7813\n",
      "Epoch 3/100\n",
      "24/24 [==============================] - 0s 899us/step - loss: 0.5663 - accuracy: 0.8093\n",
      "Epoch 4/100\n",
      "24/24 [==============================] - 0s 929us/step - loss: 0.5381 - accuracy: 0.8373\n",
      "Epoch 5/100\n",
      "24/24 [==============================] - 0s 997us/step - loss: 0.5126 - accuracy: 0.8480\n",
      "Epoch 6/100\n",
      "24/24 [==============================] - 0s 929us/step - loss: 0.4901 - accuracy: 0.8627\n",
      "Epoch 7/100\n",
      "24/24 [==============================] - 0s 968us/step - loss: 0.4695 - accuracy: 0.8707\n",
      "Epoch 8/100\n",
      "24/24 [==============================] - 0s 909us/step - loss: 0.4512 - accuracy: 0.8733\n",
      "Epoch 9/100\n",
      "24/24 [==============================] - 0s 844us/step - loss: 0.4342 - accuracy: 0.8733\n",
      "Epoch 10/100\n",
      "24/24 [==============================] - 0s 920us/step - loss: 0.4179 - accuracy: 0.8747\n",
      "Epoch 11/100\n",
      "24/24 [==============================] - 0s 1ms/step - loss: 0.4033 - accuracy: 0.8760\n",
      "Epoch 12/100\n",
      "24/24 [==============================] - 0s 982us/step - loss: 0.3894 - accuracy: 0.8747\n",
      "Epoch 13/100\n",
      "24/24 [==============================] - 0s 967us/step - loss: 0.3767 - accuracy: 0.8800\n",
      "Epoch 14/100\n",
      "24/24 [==============================] - 0s 983us/step - loss: 0.3649 - accuracy: 0.8827\n",
      "Epoch 15/100\n",
      "24/24 [==============================] - 0s 1ms/step - loss: 0.3539 - accuracy: 0.8840\n",
      "Epoch 16/100\n",
      "24/24 [==============================] - 0s 1ms/step - loss: 0.3438 - accuracy: 0.8853\n",
      "Epoch 17/100\n",
      "24/24 [==============================] - 0s 965us/step - loss: 0.3348 - accuracy: 0.8853\n",
      "Epoch 18/100\n",
      "24/24 [==============================] - 0s 1ms/step - loss: 0.3263 - accuracy: 0.8853\n",
      "Epoch 19/100\n",
      "24/24 [==============================] - 0s 938us/step - loss: 0.3186 - accuracy: 0.8867\n",
      "Epoch 20/100\n",
      "24/24 [==============================] - 0s 982us/step - loss: 0.3116 - accuracy: 0.8867\n",
      "Epoch 21/100\n",
      "24/24 [==============================] - 0s 999us/step - loss: 0.3050 - accuracy: 0.8867\n",
      "Epoch 22/100\n",
      "24/24 [==============================] - 0s 964us/step - loss: 0.2992 - accuracy: 0.8880\n",
      "Epoch 23/100\n",
      "24/24 [==============================] - 0s 983us/step - loss: 0.2937 - accuracy: 0.8893\n",
      "Epoch 24/100\n",
      "24/24 [==============================] - 0s 945us/step - loss: 0.2887 - accuracy: 0.8933\n",
      "Epoch 25/100\n",
      "24/24 [==============================] - 0s 1ms/step - loss: 0.2841 - accuracy: 0.8960\n",
      "Epoch 26/100\n",
      "24/24 [==============================] - 0s 998us/step - loss: 0.2799 - accuracy: 0.8960\n",
      "Epoch 27/100\n",
      "24/24 [==============================] - 0s 1ms/step - loss: 0.2760 - accuracy: 0.8960\n",
      "Epoch 28/100\n",
      "24/24 [==============================] - 0s 1ms/step - loss: 0.2724 - accuracy: 0.8960\n",
      "Epoch 29/100\n",
      "24/24 [==============================] - 0s 1ms/step - loss: 0.2691 - accuracy: 0.8960\n",
      "Epoch 30/100\n",
      "24/24 [==============================] - 0s 1ms/step - loss: 0.2661 - accuracy: 0.8960\n",
      "Epoch 31/100\n",
      "24/24 [==============================] - 0s 1ms/step - loss: 0.2633 - accuracy: 0.8973\n",
      "Epoch 32/100\n",
      "24/24 [==============================] - 0s 948us/step - loss: 0.2606 - accuracy: 0.8987\n",
      "Epoch 33/100\n",
      "24/24 [==============================] - 0s 1ms/step - loss: 0.2582 - accuracy: 0.8987\n",
      "Epoch 34/100\n",
      "24/24 [==============================] - 0s 962us/step - loss: 0.2560 - accuracy: 0.8987\n",
      "Epoch 35/100\n",
      "24/24 [==============================] - 0s 1ms/step - loss: 0.2539 - accuracy: 0.9000\n",
      "Epoch 36/100\n",
      "24/24 [==============================] - 0s 1ms/step - loss: 0.2519 - accuracy: 0.9013\n",
      "Epoch 37/100\n",
      "24/24 [==============================] - 0s 1ms/step - loss: 0.2501 - accuracy: 0.9013\n",
      "Epoch 38/100\n",
      "24/24 [==============================] - 0s 1ms/step - loss: 0.2483 - accuracy: 0.9053\n",
      "Epoch 39/100\n",
      "24/24 [==============================] - 0s 1ms/step - loss: 0.2468 - accuracy: 0.9053\n",
      "Epoch 40/100\n",
      "24/24 [==============================] - 0s 1ms/step - loss: 0.2452 - accuracy: 0.9053\n",
      "Epoch 41/100\n",
      "24/24 [==============================] - 0s 1ms/step - loss: 0.2438 - accuracy: 0.9053\n",
      "Epoch 42/100\n",
      "24/24 [==============================] - 0s 1ms/step - loss: 0.2424 - accuracy: 0.9067\n",
      "Epoch 43/100\n",
      "24/24 [==============================] - 0s 1ms/step - loss: 0.2410 - accuracy: 0.9067\n",
      "Epoch 44/100\n",
      "24/24 [==============================] - 0s 1ms/step - loss: 0.2398 - accuracy: 0.9080\n",
      "Epoch 45/100\n",
      "24/24 [==============================] - 0s 1ms/step - loss: 0.2386 - accuracy: 0.9080\n",
      "Epoch 46/100\n",
      "24/24 [==============================] - 0s 1ms/step - loss: 0.2373 - accuracy: 0.9080\n",
      "Epoch 47/100\n",
      "24/24 [==============================] - 0s 1ms/step - loss: 0.2362 - accuracy: 0.9093\n",
      "Epoch 48/100\n",
      "24/24 [==============================] - 0s 1ms/step - loss: 0.2351 - accuracy: 0.9093\n",
      "Epoch 49/100\n",
      "24/24 [==============================] - 0s 1ms/step - loss: 0.2340 - accuracy: 0.9093\n",
      "Epoch 50/100\n",
      "24/24 [==============================] - 0s 1ms/step - loss: 0.2328 - accuracy: 0.9093\n",
      "Epoch 51/100\n",
      "24/24 [==============================] - 0s 1ms/step - loss: 0.2318 - accuracy: 0.9093\n",
      "Epoch 52/100\n",
      "24/24 [==============================] - 0s 1ms/step - loss: 0.2308 - accuracy: 0.9093\n",
      "Epoch 53/100\n",
      "24/24 [==============================] - 0s 1ms/step - loss: 0.2298 - accuracy: 0.9093\n",
      "Epoch 54/100\n",
      "24/24 [==============================] - 0s 1ms/step - loss: 0.2288 - accuracy: 0.9093\n",
      "Epoch 55/100\n",
      "24/24 [==============================] - 0s 946us/step - loss: 0.2279 - accuracy: 0.9093\n",
      "Epoch 56/100\n",
      "24/24 [==============================] - 0s 962us/step - loss: 0.2269 - accuracy: 0.9093\n",
      "Epoch 57/100\n",
      "24/24 [==============================] - 0s 1ms/step - loss: 0.2260 - accuracy: 0.9093\n",
      "Epoch 58/100\n",
      "24/24 [==============================] - 0s 1ms/step - loss: 0.2251 - accuracy: 0.9093\n",
      "Epoch 59/100\n",
      "24/24 [==============================] - 0s 941us/step - loss: 0.2242 - accuracy: 0.9107\n",
      "Epoch 60/100\n",
      "24/24 [==============================] - 0s 990us/step - loss: 0.2232 - accuracy: 0.9133\n",
      "Epoch 61/100\n",
      "24/24 [==============================] - 0s 1ms/step - loss: 0.2223 - accuracy: 0.9133\n",
      "Epoch 62/100\n",
      "24/24 [==============================] - 0s 2ms/step - loss: 0.2213 - accuracy: 0.9133\n",
      "Epoch 63/100\n",
      "24/24 [==============================] - 0s 2ms/step - loss: 0.2205 - accuracy: 0.9133\n",
      "Epoch 64/100\n",
      "24/24 [==============================] - 0s 2ms/step - loss: 0.2196 - accuracy: 0.9133\n",
      "Epoch 65/100\n",
      "24/24 [==============================] - 0s 1ms/step - loss: 0.2186 - accuracy: 0.9147\n",
      "Epoch 66/100\n",
      "24/24 [==============================] - 0s 1ms/step - loss: 0.2177 - accuracy: 0.9147\n",
      "Epoch 67/100\n",
      "24/24 [==============================] - 0s 1ms/step - loss: 0.2168 - accuracy: 0.9147\n",
      "Epoch 68/100\n",
      "24/24 [==============================] - 0s 1ms/step - loss: 0.2159 - accuracy: 0.9147\n",
      "Epoch 69/100\n",
      "24/24 [==============================] - 0s 995us/step - loss: 0.2149 - accuracy: 0.9147\n",
      "Epoch 70/100\n",
      "24/24 [==============================] - 0s 1ms/step - loss: 0.2141 - accuracy: 0.9147\n",
      "Epoch 71/100\n",
      "24/24 [==============================] - 0s 1ms/step - loss: 0.2131 - accuracy: 0.9147\n",
      "Epoch 72/100\n",
      "24/24 [==============================] - 0s 952us/step - loss: 0.2121 - accuracy: 0.9147\n",
      "Epoch 73/100\n",
      "24/24 [==============================] - 0s 953us/step - loss: 0.2112 - accuracy: 0.9147\n",
      "Epoch 74/100\n",
      "24/24 [==============================] - 0s 971us/step - loss: 0.2102 - accuracy: 0.9147\n",
      "Epoch 75/100\n",
      "24/24 [==============================] - 0s 955us/step - loss: 0.2092 - accuracy: 0.9147\n",
      "Epoch 76/100\n",
      "24/24 [==============================] - 0s 1ms/step - loss: 0.2083 - accuracy: 0.9147\n",
      "Epoch 77/100\n",
      "24/24 [==============================] - 0s 1ms/step - loss: 0.2073 - accuracy: 0.9147\n",
      "Epoch 78/100\n",
      "24/24 [==============================] - 0s 1ms/step - loss: 0.2063 - accuracy: 0.9147\n",
      "Epoch 79/100\n",
      "24/24 [==============================] - 0s 1ms/step - loss: 0.2053 - accuracy: 0.9147\n",
      "Epoch 80/100\n",
      "24/24 [==============================] - 0s 906us/step - loss: 0.2044 - accuracy: 0.9160\n",
      "Epoch 81/100\n",
      "24/24 [==============================] - 0s 975us/step - loss: 0.2033 - accuracy: 0.9187\n",
      "Epoch 82/100\n"
     ]
    },
    {
     "name": "stdout",
     "output_type": "stream",
     "text": [
      "24/24 [==============================] - 0s 928us/step - loss: 0.2023 - accuracy: 0.9200\n",
      "Epoch 83/100\n",
      "24/24 [==============================] - 0s 944us/step - loss: 0.2013 - accuracy: 0.9200\n",
      "Epoch 84/100\n",
      "24/24 [==============================] - 0s 869us/step - loss: 0.2001 - accuracy: 0.9200\n",
      "Epoch 85/100\n",
      "24/24 [==============================] - 0s 969us/step - loss: 0.1990 - accuracy: 0.9200\n",
      "Epoch 86/100\n",
      "24/24 [==============================] - 0s 958us/step - loss: 0.1979 - accuracy: 0.9200\n",
      "Epoch 87/100\n",
      "24/24 [==============================] - 0s 1ms/step - loss: 0.1968 - accuracy: 0.9200\n",
      "Epoch 88/100\n",
      "24/24 [==============================] - 0s 943us/step - loss: 0.1958 - accuracy: 0.9213\n",
      "Epoch 89/100\n",
      "24/24 [==============================] - 0s 985us/step - loss: 0.1946 - accuracy: 0.9213\n",
      "Epoch 90/100\n",
      "24/24 [==============================] - 0s 950us/step - loss: 0.1935 - accuracy: 0.9213\n",
      "Epoch 91/100\n",
      "24/24 [==============================] - 0s 999us/step - loss: 0.1923 - accuracy: 0.9213\n",
      "Epoch 92/100\n",
      "24/24 [==============================] - 0s 975us/step - loss: 0.1912 - accuracy: 0.9213\n",
      "Epoch 93/100\n",
      "24/24 [==============================] - 0s 904us/step - loss: 0.1900 - accuracy: 0.9227\n",
      "Epoch 94/100\n",
      "24/24 [==============================] - 0s 1ms/step - loss: 0.1888 - accuracy: 0.9227\n",
      "Epoch 95/100\n",
      "24/24 [==============================] - 0s 886us/step - loss: 0.1877 - accuracy: 0.9227\n",
      "Epoch 96/100\n",
      "24/24 [==============================] - 0s 995us/step - loss: 0.1864 - accuracy: 0.9227\n",
      "Epoch 97/100\n",
      "24/24 [==============================] - 0s 854us/step - loss: 0.1852 - accuracy: 0.9227\n",
      "Epoch 98/100\n",
      "24/24 [==============================] - 0s 864us/step - loss: 0.1840 - accuracy: 0.9227\n",
      "Epoch 99/100\n",
      "24/24 [==============================] - 0s 934us/step - loss: 0.1828 - accuracy: 0.9227\n",
      "Epoch 100/100\n",
      "24/24 [==============================] - 0s 966us/step - loss: 0.1815 - accuracy: 0.9227\n"
     ]
    }
   ],
   "source": [
    "# Compile the Sequential model together and customize metrics\n",
    "new_model.compile(loss=\"binary_crossentropy\", optimizer=\"adam\", metrics=[\"accuracy\"])\n",
    "\n",
    "# Fit the model to the training data\n",
    "new_fit_model = new_model.fit(X_moon_train_scaled, y_moon_train, epochs=100, shuffle=True)"
   ]
  },
  {
   "cell_type": "code",
   "execution_count": null,
   "id": "cf60bbb6",
   "metadata": {},
   "outputs": [],
   "source": []
  }
 ],
 "metadata": {
  "kernelspec": {
   "display_name": "Python 3 (ipykernel)",
   "language": "python",
   "name": "python3"
  },
  "language_info": {
   "codemirror_mode": {
    "name": "ipython",
    "version": 3
   },
   "file_extension": ".py",
   "mimetype": "text/x-python",
   "name": "python",
   "nbconvert_exporter": "python",
   "pygments_lexer": "ipython3",
   "version": "3.9.7"
  }
 },
 "nbformat": 4,
 "nbformat_minor": 5
}
